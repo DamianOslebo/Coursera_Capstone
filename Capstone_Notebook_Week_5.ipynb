{
 "cells": [
  {
   "cell_type": "markdown",
   "id": "b4924288",
   "metadata": {},
   "source": [
    "# Adult Establishment Finder\n",
    "## Introduction\n",
    "\n",
    "When booking travel to foreign cities for a bachelor party and men are interested in the number of adult friendly establishments that are available for entertainment options.\n",
    "\n",
    "The audience is single adult heterosexual males from 18-99\n",
    "\n",
    "The problem is that it is not easy to gather information that would make for a great party in one place\n",
    "\n",
    "The solution will provide a count of the number of adult-friendly establishments by city by category\n",
    "\n",
    "## Data \n",
    "\n",
    "Geographic centers of major target cities to include \"New York, Toronto, Montreal, Seattle, Bangkok, Tokyo, London, Singapore, Sydney\" will search within 16000 meters or 10 miles of city center\n",
    "\n",
    "Foursquare data to poll for venue categories that include \"Bar, Strip Club, Massage Parlor, Night Club, Beer Bar, Casino\" using the \"explore\" endpoint\n"
   ]
  },
  {
   "cell_type": "markdown",
   "id": "7267a20d",
   "metadata": {},
   "source": [
    "## Methodology\n",
    "Intend to use Four Square data and query venue locations at the geographic centers of each city. Then solution will extract the contents of the venue category field for \"adult\" themed keywords. Each venue in the adult categories will be summed and map plots will be used to show specific venues of interest. \n",
    "\n",
    "\n",
    "## Code Implementation\n",
    "\n",
    "### Library Imports"
   ]
  },
  {
   "cell_type": "code",
   "execution_count": 1,
   "id": "cc0eb1ee",
   "metadata": {},
   "outputs": [],
   "source": [
    "import pandas as pd\n",
    "import numpy as np\n",
    "import requests\n",
    "from bs4 import BeautifulSoup\n",
    "import geocoder\n",
    "import os\n",
    "import json # library to handle JSON files\n",
    "from pandas.io.json import json_normalize # tranform JSON file into a pandas dataframe\n",
    "# Matplotlib and associated plotting modules\n",
    "import matplotlib.cm as cm\n",
    "import matplotlib.colors as colors\n",
    "import folium # map rendering library\n",
    "import IPython\n",
    "from IPython.display import IFrame"
   ]
  },
  {
   "cell_type": "code",
   "execution_count": 2,
   "id": "63ec1488",
   "metadata": {
    "scrolled": true
   },
   "outputs": [
    {
     "name": "stdout",
     "output_type": "stream",
     "text": [
      "The best city to host the bachelor party in is  Las Vegas, NV  because it has at least  100  attractions to partake\n"
     ]
    }
   ],
   "source": [
    "CLIENT_ID = key=os.environ.get('FOURSQUARE_CLIENT')\n",
    "CLIENT_SECRET = key=os.environ.get('FOURSQUARE_SECRET')\n",
    "VERSION = '20180605' # Foursquare API version\n",
    "LIMIT = 500 # A default Foursquare API limit value\n",
    "RADIUS = 16000 # 10 mile radius of city center\n",
    "cities = [\"New York, NY\",\"Sydney, AU\",\"Tokyo, Japan\",\"Montreal, Quebec\",\"Seattle, WA\",\"London, UK\",\"Bangkok, Thailand\",\"Singapore, Singapore\",\"Las Vegas, NV\"]\n",
    "#Night Clubs (Bars/lounges/strip clubs, Casino, Massage Parlor, Karaoke\n",
    "categories_of_interest = '4d4b7105d754a06376d81259,' + '4bf58dd8d48988d17c941735,' + '52f2ab2ebcbc57f1066b8b3c,' + '5744ccdfe4b0c0459246b4bb' \n",
    "\n",
    "def getNearbyVenues(city,lat, lng, radius=RADIUS):\n",
    "    venues_list=[]\n",
    "    # create the API request URL\n",
    "    url = 'https://api.foursquare.com/v2/venues/explore?&client_id={}&client_secret={}&v={}&ll={},{}&radius={}&limit={}&categoryId={}'.format(\n",
    "        CLIENT_ID, \n",
    "        CLIENT_SECRET, \n",
    "        VERSION, \n",
    "        lat, \n",
    "        lng, \n",
    "        radius, \n",
    "        LIMIT,\n",
    "        categories_of_interest\n",
    "    )\n",
    "\n",
    "    # make the GET request\n",
    "    results = requests.get(url).json()[\"response\"]['groups'][0]['items']\n",
    "\n",
    "    # return only relevant information for each nearby venue\n",
    "    venues_list.append([(\n",
    "        city, \n",
    "        lat, \n",
    "        lng, \n",
    "        v['venue']['name'], \n",
    "        v['venue']['location']['lat'], \n",
    "        v['venue']['location']['lng'],  \n",
    "        v['venue']['categories'][0]['name']) for v in results])\n",
    "\n",
    "    nearby_venues = pd.DataFrame([item for venue_list in venues_list for item in venue_list])\n",
    "    nearby_venues.columns = ['City', 'City Latitude', 'City Longitude', 'Venue', 'Venue Latitude', \n",
    "                             'Venue Longitude', 'Venue Category']\n",
    "    return(nearby_venues)\n",
    "\n",
    "def getLatLong(city):\n",
    "    # initialize your variable to None\n",
    "    lat_lng_coords = None\n",
    "    # loop until you get the coordinates\n",
    "    while(lat_lng_coords is None):\n",
    "        g = geocoder.bing(city,key=os.environ.get('BING_API_KEY'))\n",
    "        lat_lng_coords = g.latlng\n",
    "    latitude = lat_lng_coords[0]\n",
    "    longitude = lat_lng_coords[1]\n",
    "    return [latitude,longitude]\n",
    "\n",
    "best_city = cities[0]\n",
    "best_city_count = 0\n",
    "current_count = 0\n",
    "city_stats = {}\n",
    "\n",
    "for city in cities:\n",
    "    current_count = 0\n",
    "    g = getLatLong(city)\n",
    "    \n",
    "    city_venues = getNearbyVenues(city=city,\n",
    "                                       lat=g[0],\n",
    "                                       lng=g[1])\n",
    "    #print(city_venues)\n",
    "    \n",
    "    city_stats[city] = city_venues\n",
    "    city_map = folium.Map(location=g, zoom_start=11)\n",
    "    \n",
    "    # add markers to map\n",
    "    for index, row in city_venues.iterrows():\n",
    "        current_count = current_count + 1\n",
    "        lat = row['Venue Latitude']\n",
    "        lng = row['Venue Longitude']\n",
    "        label = row['Venue'] + ', ' + row['Venue Category']  \n",
    "        label = folium.Popup(label, parse_html=True)\n",
    "        \n",
    "        folium.CircleMarker(\n",
    "            [lat, lng],\n",
    "            radius=5,\n",
    "            popup=label,\n",
    "            color='blue',\n",
    "            fill=True,\n",
    "            fill_color='#3186cc',\n",
    "            fill_opacity=0.7,\n",
    "            parse_html=False).add_to(city_map)  \n",
    "    \n",
    "    city_map.save(city+'.html')\n",
    "    \n",
    "    if current_count > best_city_count:\n",
    "        best_city = city\n",
    "        best_city_count = current_count\n",
    "\n",
    "IFrame(src='New York, NY.html', width=900, height=600)\n",
    "print(\"The best city to host the bachelor party in is \",city,\" because it has at least \",best_city_count,\" attractions to partake\")"
   ]
  },
  {
   "cell_type": "markdown",
   "id": "53153872",
   "metadata": {},
   "source": [
    "### Display New York Map Markers"
   ]
  },
  {
   "cell_type": "code",
   "execution_count": 3,
   "id": "30e50f33",
   "metadata": {},
   "outputs": [
    {
     "data": {
      "text/html": [
       "\n",
       "        <iframe\n",
       "            width=\"900\"\n",
       "            height=\"600\"\n",
       "            src=\"New York, NY.html\"\n",
       "            frameborder=\"0\"\n",
       "            allowfullscreen\n",
       "        ></iframe>\n",
       "        "
      ],
      "text/plain": [
       "<IPython.lib.display.IFrame at 0x26dd89ba8e0>"
      ]
     },
     "execution_count": 3,
     "metadata": {},
     "output_type": "execute_result"
    }
   ],
   "source": [
    "IFrame(src=cities[0]+'.html', width=900, height=600)"
   ]
  },
  {
   "cell_type": "code",
   "execution_count": 4,
   "id": "83fdacc1",
   "metadata": {},
   "outputs": [
    {
     "data": {
      "text/html": [
       "<div>\n",
       "<style scoped>\n",
       "    .dataframe tbody tr th:only-of-type {\n",
       "        vertical-align: middle;\n",
       "    }\n",
       "\n",
       "    .dataframe tbody tr th {\n",
       "        vertical-align: top;\n",
       "    }\n",
       "\n",
       "    .dataframe thead th {\n",
       "        text-align: right;\n",
       "    }\n",
       "</style>\n",
       "<table border=\"1\" class=\"dataframe\">\n",
       "  <thead>\n",
       "    <tr style=\"text-align: right;\">\n",
       "      <th></th>\n",
       "      <th>Bar</th>\n",
       "      <th>Casino</th>\n",
       "      <th>Nightclub</th>\n",
       "      <th>Massage</th>\n",
       "      <th>Strip Club</th>\n",
       "    </tr>\n",
       "  </thead>\n",
       "  <tbody>\n",
       "    <tr>\n",
       "      <th>0</th>\n",
       "      <td>99</td>\n",
       "      <td>0</td>\n",
       "      <td>1</td>\n",
       "      <td>0</td>\n",
       "      <td>0</td>\n",
       "    </tr>\n",
       "  </tbody>\n",
       "</table>\n",
       "</div>"
      ],
      "text/plain": [
       "   Bar  Casino  Nightclub  Massage  Strip Club\n",
       "0   99       0          1        0           0"
      ]
     },
     "execution_count": 4,
     "metadata": {},
     "output_type": "execute_result"
    }
   ],
   "source": [
    "# city stats\n",
    "city_st = pd.DataFrame([(0,0,0,0,0)],columns=['Bar','Casino','Nightclub','Massage','Strip Club'])\n",
    "\n",
    "for index, row in city_stats[cities[0]].iterrows():\n",
    "    if 'Casino' in row['Venue Category']: \n",
    "        city_st.loc[0,'Casino'] = city_st.loc[0,'Casino'] + 1 \n",
    "    elif 'Massage' in row['Venue Category']:\n",
    "        city_st.loc[0,'Massage'] = city_st.loc[0,'Massage'] + 1\n",
    "    elif 'Nightclub' in row['Venue Category']:\n",
    "        city_st.loc[0,'Nightclub'] = city_st.loc[0,'Nightclub'] + 1\n",
    "    elif 'Strip' in row['Venue Category']:\n",
    "        city_st.loc[0,'Strip Club'] = city_st.loc[0,'Strip Club'] + 1\n",
    "    else: \n",
    "        city_st.loc[0,'Bar'] = city_st.loc[0,'Bar'] + 1\n",
    "        \n",
    "city_st.head()"
   ]
  },
  {
   "cell_type": "markdown",
   "id": "b00f54cf",
   "metadata": {},
   "source": [
    "### Display Sydney Markers"
   ]
  },
  {
   "cell_type": "code",
   "execution_count": 5,
   "id": "72d91a07",
   "metadata": {},
   "outputs": [
    {
     "data": {
      "text/html": [
       "\n",
       "        <iframe\n",
       "            width=\"900\"\n",
       "            height=\"600\"\n",
       "            src=\"Sydney, AU.html\"\n",
       "            frameborder=\"0\"\n",
       "            allowfullscreen\n",
       "        ></iframe>\n",
       "        "
      ],
      "text/plain": [
       "<IPython.lib.display.IFrame at 0x26dd89ba880>"
      ]
     },
     "execution_count": 5,
     "metadata": {},
     "output_type": "execute_result"
    }
   ],
   "source": [
    "IFrame(src=cities[1]+'.html', width=900, height=600)"
   ]
  },
  {
   "cell_type": "code",
   "execution_count": 6,
   "id": "5d962b62",
   "metadata": {},
   "outputs": [
    {
     "data": {
      "text/html": [
       "<div>\n",
       "<style scoped>\n",
       "    .dataframe tbody tr th:only-of-type {\n",
       "        vertical-align: middle;\n",
       "    }\n",
       "\n",
       "    .dataframe tbody tr th {\n",
       "        vertical-align: top;\n",
       "    }\n",
       "\n",
       "    .dataframe thead th {\n",
       "        text-align: right;\n",
       "    }\n",
       "</style>\n",
       "<table border=\"1\" class=\"dataframe\">\n",
       "  <thead>\n",
       "    <tr style=\"text-align: right;\">\n",
       "      <th></th>\n",
       "      <th>Bar</th>\n",
       "      <th>Casino</th>\n",
       "      <th>Nightclub</th>\n",
       "      <th>Massage</th>\n",
       "      <th>Strip Club</th>\n",
       "    </tr>\n",
       "  </thead>\n",
       "  <tbody>\n",
       "    <tr>\n",
       "      <th>0</th>\n",
       "      <td>100</td>\n",
       "      <td>0</td>\n",
       "      <td>0</td>\n",
       "      <td>0</td>\n",
       "      <td>0</td>\n",
       "    </tr>\n",
       "  </tbody>\n",
       "</table>\n",
       "</div>"
      ],
      "text/plain": [
       "   Bar  Casino  Nightclub  Massage  Strip Club\n",
       "0  100       0          0        0           0"
      ]
     },
     "execution_count": 6,
     "metadata": {},
     "output_type": "execute_result"
    }
   ],
   "source": [
    "# city stats\n",
    "city_st = pd.DataFrame([(0,0,0,0,0)],columns=['Bar','Casino','Nightclub','Massage','Strip Club'])\n",
    "\n",
    "for index, row in city_stats[cities[1]].iterrows():\n",
    "    if 'Casino' in row['Venue Category']: \n",
    "        city_st.loc[0,'Casino'] = city_st.loc[0,'Casino'] + 1 \n",
    "    elif 'Massage' in row['Venue Category']:\n",
    "        city_st.loc[0,'Massage'] = city_st.loc[0,'Massage'] + 1\n",
    "    elif 'Nightclub' in row['Venue Category']:\n",
    "        city_st.loc[0,'Nightclub'] = city_st.loc[0,'Nightclub'] + 1\n",
    "    elif 'Strip' in row['Venue Category']:\n",
    "        city_st.loc[0,'Strip Club'] = city_st.loc[0,'Strip Club'] + 1\n",
    "    else: \n",
    "        city_st.loc[0,'Bar'] = city_st.loc[0,'Bar'] + 1\n",
    "        \n",
    "city_st.head()"
   ]
  },
  {
   "cell_type": "markdown",
   "id": "0d868211",
   "metadata": {},
   "source": [
    "### Display Tokyo Map Markers"
   ]
  },
  {
   "cell_type": "code",
   "execution_count": 7,
   "id": "f8ec5081",
   "metadata": {},
   "outputs": [
    {
     "data": {
      "text/html": [
       "\n",
       "        <iframe\n",
       "            width=\"900\"\n",
       "            height=\"600\"\n",
       "            src=\"Tokyo, Japan.html\"\n",
       "            frameborder=\"0\"\n",
       "            allowfullscreen\n",
       "        ></iframe>\n",
       "        "
      ],
      "text/plain": [
       "<IPython.lib.display.IFrame at 0x26ddc357df0>"
      ]
     },
     "execution_count": 7,
     "metadata": {},
     "output_type": "execute_result"
    }
   ],
   "source": [
    "IFrame(src=cities[2]+'.html', width=900, height=600)"
   ]
  },
  {
   "cell_type": "code",
   "execution_count": 8,
   "id": "27db5daa",
   "metadata": {},
   "outputs": [
    {
     "data": {
      "text/html": [
       "<div>\n",
       "<style scoped>\n",
       "    .dataframe tbody tr th:only-of-type {\n",
       "        vertical-align: middle;\n",
       "    }\n",
       "\n",
       "    .dataframe tbody tr th {\n",
       "        vertical-align: top;\n",
       "    }\n",
       "\n",
       "    .dataframe thead th {\n",
       "        text-align: right;\n",
       "    }\n",
       "</style>\n",
       "<table border=\"1\" class=\"dataframe\">\n",
       "  <thead>\n",
       "    <tr style=\"text-align: right;\">\n",
       "      <th></th>\n",
       "      <th>Bar</th>\n",
       "      <th>Casino</th>\n",
       "      <th>Nightclub</th>\n",
       "      <th>Massage</th>\n",
       "      <th>Strip Club</th>\n",
       "    </tr>\n",
       "  </thead>\n",
       "  <tbody>\n",
       "    <tr>\n",
       "      <th>0</th>\n",
       "      <td>94</td>\n",
       "      <td>0</td>\n",
       "      <td>6</td>\n",
       "      <td>0</td>\n",
       "      <td>0</td>\n",
       "    </tr>\n",
       "  </tbody>\n",
       "</table>\n",
       "</div>"
      ],
      "text/plain": [
       "   Bar  Casino  Nightclub  Massage  Strip Club\n",
       "0   94       0          6        0           0"
      ]
     },
     "execution_count": 8,
     "metadata": {},
     "output_type": "execute_result"
    }
   ],
   "source": [
    "# city stats\n",
    "city_st = pd.DataFrame([(0,0,0,0,0)],columns=['Bar','Casino','Nightclub','Massage','Strip Club'])\n",
    "\n",
    "for index, row in city_stats[cities[2]].iterrows():\n",
    "    if 'Casino' in row['Venue Category']: \n",
    "        city_st.loc[0,'Casino'] = city_st.loc[0,'Casino'] + 1 \n",
    "    elif 'Massage' in row['Venue Category']:\n",
    "        city_st.loc[0,'Massage'] = city_st.loc[0,'Massage'] + 1\n",
    "    elif 'Nightclub' in row['Venue Category']:\n",
    "        city_st.loc[0,'Nightclub'] = city_st.loc[0,'Nightclub'] + 1\n",
    "    elif 'Strip' in row['Venue Category']:\n",
    "        city_st.loc[0,'Strip Club'] = city_st.loc[0,'Strip Club'] + 1\n",
    "    else: \n",
    "        city_st.loc[0,'Bar'] = city_st.loc[0,'Bar'] + 1\n",
    "        \n",
    "city_st.head()"
   ]
  },
  {
   "cell_type": "markdown",
   "id": "f274469b",
   "metadata": {},
   "source": [
    "### Display Montreal Map Markers"
   ]
  },
  {
   "cell_type": "code",
   "execution_count": 9,
   "id": "3accf08d",
   "metadata": {},
   "outputs": [
    {
     "data": {
      "text/html": [
       "\n",
       "        <iframe\n",
       "            width=\"900\"\n",
       "            height=\"600\"\n",
       "            src=\"Montreal, Quebec.html\"\n",
       "            frameborder=\"0\"\n",
       "            allowfullscreen\n",
       "        ></iframe>\n",
       "        "
      ],
      "text/plain": [
       "<IPython.lib.display.IFrame at 0x26ddc357850>"
      ]
     },
     "execution_count": 9,
     "metadata": {},
     "output_type": "execute_result"
    }
   ],
   "source": [
    "IFrame(src=cities[3]+'.html', width=900, height=600)"
   ]
  },
  {
   "cell_type": "code",
   "execution_count": 10,
   "id": "99b38218",
   "metadata": {},
   "outputs": [
    {
     "data": {
      "text/html": [
       "<div>\n",
       "<style scoped>\n",
       "    .dataframe tbody tr th:only-of-type {\n",
       "        vertical-align: middle;\n",
       "    }\n",
       "\n",
       "    .dataframe tbody tr th {\n",
       "        vertical-align: top;\n",
       "    }\n",
       "\n",
       "    .dataframe thead th {\n",
       "        text-align: right;\n",
       "    }\n",
       "</style>\n",
       "<table border=\"1\" class=\"dataframe\">\n",
       "  <thead>\n",
       "    <tr style=\"text-align: right;\">\n",
       "      <th></th>\n",
       "      <th>Bar</th>\n",
       "      <th>Casino</th>\n",
       "      <th>Nightclub</th>\n",
       "      <th>Massage</th>\n",
       "      <th>Strip Club</th>\n",
       "    </tr>\n",
       "  </thead>\n",
       "  <tbody>\n",
       "    <tr>\n",
       "      <th>0</th>\n",
       "      <td>97</td>\n",
       "      <td>0</td>\n",
       "      <td>3</td>\n",
       "      <td>0</td>\n",
       "      <td>0</td>\n",
       "    </tr>\n",
       "  </tbody>\n",
       "</table>\n",
       "</div>"
      ],
      "text/plain": [
       "   Bar  Casino  Nightclub  Massage  Strip Club\n",
       "0   97       0          3        0           0"
      ]
     },
     "execution_count": 10,
     "metadata": {},
     "output_type": "execute_result"
    }
   ],
   "source": [
    "# city stats\n",
    "city_st = pd.DataFrame([(0,0,0,0,0)],columns=['Bar','Casino','Nightclub','Massage','Strip Club'])\n",
    "\n",
    "for index, row in city_stats[cities[3]].iterrows():\n",
    "    if 'Casino' in row['Venue Category']: \n",
    "        city_st.loc[0,'Casino'] = city_st.loc[0,'Casino'] + 1 \n",
    "    elif 'Massage' in row['Venue Category']:\n",
    "        city_st.loc[0,'Massage'] = city_st.loc[0,'Massage'] + 1\n",
    "    elif 'Nightclub' in row['Venue Category']:\n",
    "        city_st.loc[0,'Nightclub'] = city_st.loc[0,'Nightclub'] + 1\n",
    "    elif 'Strip' in row['Venue Category']:\n",
    "        city_st.loc[0,'Strip Club'] = city_st.loc[0,'Strip Club'] + 1\n",
    "    else: \n",
    "        city_st.loc[0,'Bar'] = city_st.loc[0,'Bar'] + 1\n",
    "        \n",
    "city_st.head()"
   ]
  },
  {
   "cell_type": "markdown",
   "id": "7d708c77",
   "metadata": {},
   "source": [
    "### Display Seattle Map Markers"
   ]
  },
  {
   "cell_type": "code",
   "execution_count": 11,
   "id": "80e377ce",
   "metadata": {},
   "outputs": [
    {
     "data": {
      "text/html": [
       "\n",
       "        <iframe\n",
       "            width=\"900\"\n",
       "            height=\"600\"\n",
       "            src=\"Seattle, WA.html\"\n",
       "            frameborder=\"0\"\n",
       "            allowfullscreen\n",
       "        ></iframe>\n",
       "        "
      ],
      "text/plain": [
       "<IPython.lib.display.IFrame at 0x26ddc686730>"
      ]
     },
     "execution_count": 11,
     "metadata": {},
     "output_type": "execute_result"
    }
   ],
   "source": [
    "IFrame(src=cities[4]+'.html', width=900, height=600)"
   ]
  },
  {
   "cell_type": "code",
   "execution_count": 12,
   "id": "bd41fe72",
   "metadata": {},
   "outputs": [
    {
     "data": {
      "text/html": [
       "<div>\n",
       "<style scoped>\n",
       "    .dataframe tbody tr th:only-of-type {\n",
       "        vertical-align: middle;\n",
       "    }\n",
       "\n",
       "    .dataframe tbody tr th {\n",
       "        vertical-align: top;\n",
       "    }\n",
       "\n",
       "    .dataframe thead th {\n",
       "        text-align: right;\n",
       "    }\n",
       "</style>\n",
       "<table border=\"1\" class=\"dataframe\">\n",
       "  <thead>\n",
       "    <tr style=\"text-align: right;\">\n",
       "      <th></th>\n",
       "      <th>Bar</th>\n",
       "      <th>Casino</th>\n",
       "      <th>Nightclub</th>\n",
       "      <th>Massage</th>\n",
       "      <th>Strip Club</th>\n",
       "    </tr>\n",
       "  </thead>\n",
       "  <tbody>\n",
       "    <tr>\n",
       "      <th>0</th>\n",
       "      <td>99</td>\n",
       "      <td>0</td>\n",
       "      <td>1</td>\n",
       "      <td>0</td>\n",
       "      <td>0</td>\n",
       "    </tr>\n",
       "  </tbody>\n",
       "</table>\n",
       "</div>"
      ],
      "text/plain": [
       "   Bar  Casino  Nightclub  Massage  Strip Club\n",
       "0   99       0          1        0           0"
      ]
     },
     "execution_count": 12,
     "metadata": {},
     "output_type": "execute_result"
    }
   ],
   "source": [
    "# city stats\n",
    "city_st = pd.DataFrame([(0,0,0,0,0)],columns=['Bar','Casino','Nightclub','Massage','Strip Club'])\n",
    "\n",
    "for index, row in city_stats[cities[4]].iterrows():\n",
    "    if 'Casino' in row['Venue Category']: \n",
    "        city_st.loc[0,'Casino'] = city_st.loc[0,'Casino'] + 1 \n",
    "    elif 'Massage' in row['Venue Category']:\n",
    "        city_st.loc[0,'Massage'] = city_st.loc[0,'Massage'] + 1\n",
    "    elif 'Nightclub' in row['Venue Category']:\n",
    "        city_st.loc[0,'Nightclub'] = city_st.loc[0,'Nightclub'] + 1\n",
    "    elif 'Strip' in row['Venue Category']:\n",
    "        city_st.loc[0,'Strip Club'] = city_st.loc[0,'Strip Club'] + 1\n",
    "    else: \n",
    "        city_st.loc[0,'Bar'] = city_st.loc[0,'Bar'] + 1\n",
    "        \n",
    "city_st.head()"
   ]
  },
  {
   "cell_type": "markdown",
   "id": "abc25913",
   "metadata": {},
   "source": [
    "### Display London Map Markers"
   ]
  },
  {
   "cell_type": "code",
   "execution_count": 13,
   "id": "2fd8f3fb",
   "metadata": {},
   "outputs": [
    {
     "data": {
      "text/html": [
       "\n",
       "        <iframe\n",
       "            width=\"900\"\n",
       "            height=\"600\"\n",
       "            src=\"London, UK.html\"\n",
       "            frameborder=\"0\"\n",
       "            allowfullscreen\n",
       "        ></iframe>\n",
       "        "
      ],
      "text/plain": [
       "<IPython.lib.display.IFrame at 0x26ddc686a60>"
      ]
     },
     "execution_count": 13,
     "metadata": {},
     "output_type": "execute_result"
    }
   ],
   "source": [
    "IFrame(src=cities[5]+'.html', width=900, height=600)"
   ]
  },
  {
   "cell_type": "code",
   "execution_count": 14,
   "id": "4af5f0ae",
   "metadata": {},
   "outputs": [
    {
     "data": {
      "text/html": [
       "<div>\n",
       "<style scoped>\n",
       "    .dataframe tbody tr th:only-of-type {\n",
       "        vertical-align: middle;\n",
       "    }\n",
       "\n",
       "    .dataframe tbody tr th {\n",
       "        vertical-align: top;\n",
       "    }\n",
       "\n",
       "    .dataframe thead th {\n",
       "        text-align: right;\n",
       "    }\n",
       "</style>\n",
       "<table border=\"1\" class=\"dataframe\">\n",
       "  <thead>\n",
       "    <tr style=\"text-align: right;\">\n",
       "      <th></th>\n",
       "      <th>Bar</th>\n",
       "      <th>Casino</th>\n",
       "      <th>Nightclub</th>\n",
       "      <th>Massage</th>\n",
       "      <th>Strip Club</th>\n",
       "    </tr>\n",
       "  </thead>\n",
       "  <tbody>\n",
       "    <tr>\n",
       "      <th>0</th>\n",
       "      <td>99</td>\n",
       "      <td>0</td>\n",
       "      <td>1</td>\n",
       "      <td>0</td>\n",
       "      <td>0</td>\n",
       "    </tr>\n",
       "  </tbody>\n",
       "</table>\n",
       "</div>"
      ],
      "text/plain": [
       "   Bar  Casino  Nightclub  Massage  Strip Club\n",
       "0   99       0          1        0           0"
      ]
     },
     "execution_count": 14,
     "metadata": {},
     "output_type": "execute_result"
    }
   ],
   "source": [
    "# city stats\n",
    "city_st = pd.DataFrame([(0,0,0,0,0)],columns=['Bar','Casino','Nightclub','Massage','Strip Club'])\n",
    "\n",
    "for index, row in city_stats[cities[5]].iterrows():\n",
    "    if 'Casino' in row['Venue Category']: \n",
    "        city_st.loc[0,'Casino'] = city_st.loc[0,'Casino'] + 1 \n",
    "    elif 'Massage' in row['Venue Category']:\n",
    "        city_st.loc[0,'Massage'] = city_st.loc[0,'Massage'] + 1\n",
    "    elif 'Nightclub' in row['Venue Category']:\n",
    "        city_st.loc[0,'Nightclub'] = city_st.loc[0,'Nightclub'] + 1\n",
    "    elif 'Strip' in row['Venue Category']:\n",
    "        city_st.loc[0,'Strip Club'] = city_st.loc[0,'Strip Club'] + 1\n",
    "    else: \n",
    "        city_st.loc[0,'Bar'] = city_st.loc[0,'Bar'] + 1\n",
    "        \n",
    "city_st.head()"
   ]
  },
  {
   "cell_type": "markdown",
   "id": "942229dd",
   "metadata": {},
   "source": [
    "### Display Bangkok Map Markers"
   ]
  },
  {
   "cell_type": "code",
   "execution_count": 15,
   "id": "c386214d",
   "metadata": {},
   "outputs": [
    {
     "data": {
      "text/html": [
       "\n",
       "        <iframe\n",
       "            width=\"900\"\n",
       "            height=\"600\"\n",
       "            src=\"Bangkok, Thailand.html\"\n",
       "            frameborder=\"0\"\n",
       "            allowfullscreen\n",
       "        ></iframe>\n",
       "        "
      ],
      "text/plain": [
       "<IPython.lib.display.IFrame at 0x26ddbec8460>"
      ]
     },
     "execution_count": 15,
     "metadata": {},
     "output_type": "execute_result"
    }
   ],
   "source": [
    "IFrame(src=cities[6]+'.html', width=900, height=600)"
   ]
  },
  {
   "cell_type": "code",
   "execution_count": 16,
   "id": "678fe77d",
   "metadata": {},
   "outputs": [
    {
     "data": {
      "text/html": [
       "<div>\n",
       "<style scoped>\n",
       "    .dataframe tbody tr th:only-of-type {\n",
       "        vertical-align: middle;\n",
       "    }\n",
       "\n",
       "    .dataframe tbody tr th {\n",
       "        vertical-align: top;\n",
       "    }\n",
       "\n",
       "    .dataframe thead th {\n",
       "        text-align: right;\n",
       "    }\n",
       "</style>\n",
       "<table border=\"1\" class=\"dataframe\">\n",
       "  <thead>\n",
       "    <tr style=\"text-align: right;\">\n",
       "      <th></th>\n",
       "      <th>Bar</th>\n",
       "      <th>Casino</th>\n",
       "      <th>Nightclub</th>\n",
       "      <th>Massage</th>\n",
       "      <th>Strip Club</th>\n",
       "    </tr>\n",
       "  </thead>\n",
       "  <tbody>\n",
       "    <tr>\n",
       "      <th>0</th>\n",
       "      <td>98</td>\n",
       "      <td>0</td>\n",
       "      <td>1</td>\n",
       "      <td>0</td>\n",
       "      <td>1</td>\n",
       "    </tr>\n",
       "  </tbody>\n",
       "</table>\n",
       "</div>"
      ],
      "text/plain": [
       "   Bar  Casino  Nightclub  Massage  Strip Club\n",
       "0   98       0          1        0           1"
      ]
     },
     "execution_count": 16,
     "metadata": {},
     "output_type": "execute_result"
    }
   ],
   "source": [
    "# city stats\n",
    "city_st = pd.DataFrame([(0,0,0,0,0)],columns=['Bar','Casino','Nightclub','Massage','Strip Club'])\n",
    "\n",
    "for index, row in city_stats[cities[6]].iterrows():\n",
    "    if 'Casino' in row['Venue Category']: \n",
    "        city_st.loc[0,'Casino'] = city_st.loc[0,'Casino'] + 1 \n",
    "    elif 'Massage' in row['Venue Category']:\n",
    "        city_st.loc[0,'Massage'] = city_st.loc[0,'Massage'] + 1\n",
    "    elif 'Nightclub' in row['Venue Category']:\n",
    "        city_st.loc[0,'Nightclub'] = city_st.loc[0,'Nightclub'] + 1\n",
    "    elif 'Strip' in row['Venue Category']:\n",
    "        city_st.loc[0,'Strip Club'] = city_st.loc[0,'Strip Club'] + 1\n",
    "    else: \n",
    "        city_st.loc[0,'Bar'] = city_st.loc[0,'Bar'] + 1\n",
    "        \n",
    "city_st.head()"
   ]
  },
  {
   "cell_type": "markdown",
   "id": "191962ae",
   "metadata": {},
   "source": [
    "### Display Singapore Map Markers"
   ]
  },
  {
   "cell_type": "code",
   "execution_count": 17,
   "id": "155a9d27",
   "metadata": {},
   "outputs": [
    {
     "data": {
      "text/html": [
       "\n",
       "        <iframe\n",
       "            width=\"900\"\n",
       "            height=\"600\"\n",
       "            src=\"Singapore, Singapore.html\"\n",
       "            frameborder=\"0\"\n",
       "            allowfullscreen\n",
       "        ></iframe>\n",
       "        "
      ],
      "text/plain": [
       "<IPython.lib.display.IFrame at 0x26ddc683760>"
      ]
     },
     "execution_count": 17,
     "metadata": {},
     "output_type": "execute_result"
    }
   ],
   "source": [
    "IFrame(src=cities[7]+'.html', width=900, height=600)"
   ]
  },
  {
   "cell_type": "code",
   "execution_count": 18,
   "id": "6fabe38b",
   "metadata": {},
   "outputs": [
    {
     "data": {
      "text/html": [
       "<div>\n",
       "<style scoped>\n",
       "    .dataframe tbody tr th:only-of-type {\n",
       "        vertical-align: middle;\n",
       "    }\n",
       "\n",
       "    .dataframe tbody tr th {\n",
       "        vertical-align: top;\n",
       "    }\n",
       "\n",
       "    .dataframe thead th {\n",
       "        text-align: right;\n",
       "    }\n",
       "</style>\n",
       "<table border=\"1\" class=\"dataframe\">\n",
       "  <thead>\n",
       "    <tr style=\"text-align: right;\">\n",
       "      <th></th>\n",
       "      <th>Bar</th>\n",
       "      <th>Casino</th>\n",
       "      <th>Nightclub</th>\n",
       "      <th>Massage</th>\n",
       "      <th>Strip Club</th>\n",
       "    </tr>\n",
       "  </thead>\n",
       "  <tbody>\n",
       "    <tr>\n",
       "      <th>0</th>\n",
       "      <td>98</td>\n",
       "      <td>0</td>\n",
       "      <td>2</td>\n",
       "      <td>0</td>\n",
       "      <td>0</td>\n",
       "    </tr>\n",
       "  </tbody>\n",
       "</table>\n",
       "</div>"
      ],
      "text/plain": [
       "   Bar  Casino  Nightclub  Massage  Strip Club\n",
       "0   98       0          2        0           0"
      ]
     },
     "execution_count": 18,
     "metadata": {},
     "output_type": "execute_result"
    }
   ],
   "source": [
    "# city stats\n",
    "city_st = pd.DataFrame([(0,0,0,0,0)],columns=['Bar','Casino','Nightclub','Massage','Strip Club'])\n",
    "\n",
    "for index, row in city_stats[cities[7]].iterrows():\n",
    "    if 'Casino' in row['Venue Category']: \n",
    "        city_st.loc[0,'Casino'] = city_st.loc[0,'Casino'] + 1 \n",
    "    elif 'Massage' in row['Venue Category']:\n",
    "        city_st.loc[0,'Massage'] = city_st.loc[0,'Massage'] + 1\n",
    "    elif 'Nightclub' in row['Venue Category']:\n",
    "        city_st.loc[0,'Nightclub'] = city_st.loc[0,'Nightclub'] + 1\n",
    "    elif 'Strip' in row['Venue Category']:\n",
    "        city_st.loc[0,'Strip Club'] = city_st.loc[0,'Strip Club'] + 1\n",
    "    else: \n",
    "        city_st.loc[0,'Bar'] = city_st.loc[0,'Bar'] + 1\n",
    "        \n",
    "city_st.head()"
   ]
  },
  {
   "cell_type": "markdown",
   "id": "50fe9c50",
   "metadata": {},
   "source": [
    "### Display Las Vegas Map Markers"
   ]
  },
  {
   "cell_type": "code",
   "execution_count": 19,
   "id": "30fd779a",
   "metadata": {},
   "outputs": [
    {
     "data": {
      "text/html": [
       "\n",
       "        <iframe\n",
       "            width=\"900\"\n",
       "            height=\"600\"\n",
       "            src=\"Las Vegas, NV.html\"\n",
       "            frameborder=\"0\"\n",
       "            allowfullscreen\n",
       "        ></iframe>\n",
       "        "
      ],
      "text/plain": [
       "<IPython.lib.display.IFrame at 0x26ddc683e50>"
      ]
     },
     "execution_count": 19,
     "metadata": {},
     "output_type": "execute_result"
    }
   ],
   "source": [
    "IFrame(src=cities[8]+'.html', width=900, height=600)"
   ]
  },
  {
   "cell_type": "code",
   "execution_count": 20,
   "id": "8a97b564",
   "metadata": {},
   "outputs": [
    {
     "data": {
      "text/html": [
       "<div>\n",
       "<style scoped>\n",
       "    .dataframe tbody tr th:only-of-type {\n",
       "        vertical-align: middle;\n",
       "    }\n",
       "\n",
       "    .dataframe tbody tr th {\n",
       "        vertical-align: top;\n",
       "    }\n",
       "\n",
       "    .dataframe thead th {\n",
       "        text-align: right;\n",
       "    }\n",
       "</style>\n",
       "<table border=\"1\" class=\"dataframe\">\n",
       "  <thead>\n",
       "    <tr style=\"text-align: right;\">\n",
       "      <th></th>\n",
       "      <th>Bar</th>\n",
       "      <th>Casino</th>\n",
       "      <th>Nightclub</th>\n",
       "      <th>Massage</th>\n",
       "      <th>Strip Club</th>\n",
       "    </tr>\n",
       "  </thead>\n",
       "  <tbody>\n",
       "    <tr>\n",
       "      <th>0</th>\n",
       "      <td>92</td>\n",
       "      <td>0</td>\n",
       "      <td>8</td>\n",
       "      <td>0</td>\n",
       "      <td>0</td>\n",
       "    </tr>\n",
       "  </tbody>\n",
       "</table>\n",
       "</div>"
      ],
      "text/plain": [
       "   Bar  Casino  Nightclub  Massage  Strip Club\n",
       "0   92       0          8        0           0"
      ]
     },
     "execution_count": 20,
     "metadata": {},
     "output_type": "execute_result"
    }
   ],
   "source": [
    "# city stats\n",
    "city_st = pd.DataFrame([(0,0,0,0,0)],columns=['Bar','Casino','Nightclub','Massage','Strip Club'])\n",
    "\n",
    "for index, row in city_stats[cities[8]].iterrows():\n",
    "    if 'Casino' in row['Venue Category']: \n",
    "        city_st.loc[0,'Casino'] = city_st.loc[0,'Casino'] + 1 \n",
    "    elif 'Massage' in row['Venue Category']:\n",
    "        city_st.loc[0,'Massage'] = city_st.loc[0,'Massage'] + 1\n",
    "    elif 'Nightclub' in row['Venue Category']:\n",
    "        city_st.loc[0,'Nightclub'] = city_st.loc[0,'Nightclub'] + 1\n",
    "    elif 'Strip' in row['Venue Category']:\n",
    "        city_st.loc[0,'Strip Club'] = city_st.loc[0,'Strip Club'] + 1\n",
    "    else: \n",
    "        city_st.loc[0,'Bar'] = city_st.loc[0,'Bar'] + 1\n",
    "        \n",
    "city_st.head()"
   ]
  },
  {
   "cell_type": "markdown",
   "id": "a9512b10",
   "metadata": {},
   "source": [
    "## Model Findings\n",
    "\n",
    "Unfortunately it seems like \"Bars\" dominate all results when 100, API limitation, results are returned. If I were to run the data pulls again, I would remove \"Bars/restaurants\" from the category searches. Honestly every city has these in abundance and is not interesting for adult-themed searches. Even \"Coffee shops\" are returned by the API. I would also pull from several lat longs in a city grid search to work on the 100 data point limitation from a single geolocation.  "
   ]
  },
  {
   "cell_type": "markdown",
   "id": "835f77fc",
   "metadata": {},
   "source": [
    "## Conclusions\n",
    "\n",
    "Glad to be finished with the Data Science track series. In this module, we reviewed API usage from a service provider and a basic unsupervised machine learning technique of Kmeans clustering.\n"
   ]
  }
 ],
 "metadata": {
  "kernelspec": {
   "display_name": "Python 3",
   "language": "python",
   "name": "python3"
  },
  "language_info": {
   "codemirror_mode": {
    "name": "ipython",
    "version": 3
   },
   "file_extension": ".py",
   "mimetype": "text/x-python",
   "name": "python",
   "nbconvert_exporter": "python",
   "pygments_lexer": "ipython3",
   "version": "3.8.8"
  }
 },
 "nbformat": 4,
 "nbformat_minor": 5
}
